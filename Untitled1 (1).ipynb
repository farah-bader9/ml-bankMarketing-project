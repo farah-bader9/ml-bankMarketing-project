{
  "nbformat": 4,
  "nbformat_minor": 0,
  "metadata": {
    "colab": {
      "provenance": []
    },
    "kernelspec": {
      "name": "python3",
      "display_name": "Python 3"
    },
    "language_info": {
      "name": "python"
    }
  },
  "cells": [
    {
      "cell_type": "code",
      "execution_count": 1,
      "metadata": {
        "colab": {
          "base_uri": "https://localhost:8080/"
        },
        "id": "V8OTkl3tRLrw",
        "outputId": "1f5ac644-49f6-4b62-a77e-3334bb63ecee"
      },
      "outputs": [
        {
          "output_type": "stream",
          "name": "stdout",
          "text": [
            "Mounted at /content/drive\n"
          ]
        }
      ],
      "source": [
        "from google.colab import drive\n",
        "drive.mount('/content/drive')\n"
      ]
    },
    {
      "cell_type": "code",
      "source": [
        "import pandas as pd\n",
        "path = '/content/drive/MyDrive/bank marketing/bank.csv'\n",
        "data = pd.read_csv(path, sep=';')\n",
        "data.head()\n"
      ],
      "metadata": {
        "colab": {
          "base_uri": "https://localhost:8080/",
          "height": 206
        },
        "id": "fuG1lcHzRdVW",
        "outputId": "8f47380a-5d1e-4de5-9d31-b8ee9c3113c1"
      },
      "execution_count": 2,
      "outputs": [
        {
          "output_type": "execute_result",
          "data": {
            "text/plain": [
              "  age,job,marital,education,default,balance,housing,loan,contact,day,month,duration,campaign,pdays,previous,poutcome,deposit\n",
              "0  59,admin.,married,secondary,no,2343,yes,no,unk...                                                                        \n",
              "1  56,admin.,married,secondary,no,45,no,no,unknow...                                                                        \n",
              "2  41,technician,married,secondary,no,1270,yes,no...                                                                        \n",
              "3  55,services,married,secondary,no,2476,yes,no,u...                                                                        \n",
              "4  54,admin.,married,tertiary,no,184,no,no,unknow...                                                                        "
            ],
            "text/html": [
              "\n",
              "  <div id=\"df-07e8956c-a24c-48c6-9995-21cffe687143\" class=\"colab-df-container\">\n",
              "    <div>\n",
              "<style scoped>\n",
              "    .dataframe tbody tr th:only-of-type {\n",
              "        vertical-align: middle;\n",
              "    }\n",
              "\n",
              "    .dataframe tbody tr th {\n",
              "        vertical-align: top;\n",
              "    }\n",
              "\n",
              "    .dataframe thead th {\n",
              "        text-align: right;\n",
              "    }\n",
              "</style>\n",
              "<table border=\"1\" class=\"dataframe\">\n",
              "  <thead>\n",
              "    <tr style=\"text-align: right;\">\n",
              "      <th></th>\n",
              "      <th>age,job,marital,education,default,balance,housing,loan,contact,day,month,duration,campaign,pdays,previous,poutcome,deposit</th>\n",
              "    </tr>\n",
              "  </thead>\n",
              "  <tbody>\n",
              "    <tr>\n",
              "      <th>0</th>\n",
              "      <td>59,admin.,married,secondary,no,2343,yes,no,unk...</td>\n",
              "    </tr>\n",
              "    <tr>\n",
              "      <th>1</th>\n",
              "      <td>56,admin.,married,secondary,no,45,no,no,unknow...</td>\n",
              "    </tr>\n",
              "    <tr>\n",
              "      <th>2</th>\n",
              "      <td>41,technician,married,secondary,no,1270,yes,no...</td>\n",
              "    </tr>\n",
              "    <tr>\n",
              "      <th>3</th>\n",
              "      <td>55,services,married,secondary,no,2476,yes,no,u...</td>\n",
              "    </tr>\n",
              "    <tr>\n",
              "      <th>4</th>\n",
              "      <td>54,admin.,married,tertiary,no,184,no,no,unknow...</td>\n",
              "    </tr>\n",
              "  </tbody>\n",
              "</table>\n",
              "</div>\n",
              "    <div class=\"colab-df-buttons\">\n",
              "\n",
              "  <div class=\"colab-df-container\">\n",
              "    <button class=\"colab-df-convert\" onclick=\"convertToInteractive('df-07e8956c-a24c-48c6-9995-21cffe687143')\"\n",
              "            title=\"Convert this dataframe to an interactive table.\"\n",
              "            style=\"display:none;\">\n",
              "\n",
              "  <svg xmlns=\"http://www.w3.org/2000/svg\" height=\"24px\" viewBox=\"0 -960 960 960\">\n",
              "    <path d=\"M120-120v-720h720v720H120Zm60-500h600v-160H180v160Zm220 220h160v-160H400v160Zm0 220h160v-160H400v160ZM180-400h160v-160H180v160Zm440 0h160v-160H620v160ZM180-180h160v-160H180v160Zm440 0h160v-160H620v160Z\"/>\n",
              "  </svg>\n",
              "    </button>\n",
              "\n",
              "  <style>\n",
              "    .colab-df-container {\n",
              "      display:flex;\n",
              "      gap: 12px;\n",
              "    }\n",
              "\n",
              "    .colab-df-convert {\n",
              "      background-color: #E8F0FE;\n",
              "      border: none;\n",
              "      border-radius: 50%;\n",
              "      cursor: pointer;\n",
              "      display: none;\n",
              "      fill: #1967D2;\n",
              "      height: 32px;\n",
              "      padding: 0 0 0 0;\n",
              "      width: 32px;\n",
              "    }\n",
              "\n",
              "    .colab-df-convert:hover {\n",
              "      background-color: #E2EBFA;\n",
              "      box-shadow: 0px 1px 2px rgba(60, 64, 67, 0.3), 0px 1px 3px 1px rgba(60, 64, 67, 0.15);\n",
              "      fill: #174EA6;\n",
              "    }\n",
              "\n",
              "    .colab-df-buttons div {\n",
              "      margin-bottom: 4px;\n",
              "    }\n",
              "\n",
              "    [theme=dark] .colab-df-convert {\n",
              "      background-color: #3B4455;\n",
              "      fill: #D2E3FC;\n",
              "    }\n",
              "\n",
              "    [theme=dark] .colab-df-convert:hover {\n",
              "      background-color: #434B5C;\n",
              "      box-shadow: 0px 1px 3px 1px rgba(0, 0, 0, 0.15);\n",
              "      filter: drop-shadow(0px 1px 2px rgba(0, 0, 0, 0.3));\n",
              "      fill: #FFFFFF;\n",
              "    }\n",
              "  </style>\n",
              "\n",
              "    <script>\n",
              "      const buttonEl =\n",
              "        document.querySelector('#df-07e8956c-a24c-48c6-9995-21cffe687143 button.colab-df-convert');\n",
              "      buttonEl.style.display =\n",
              "        google.colab.kernel.accessAllowed ? 'block' : 'none';\n",
              "\n",
              "      async function convertToInteractive(key) {\n",
              "        const element = document.querySelector('#df-07e8956c-a24c-48c6-9995-21cffe687143');\n",
              "        const dataTable =\n",
              "          await google.colab.kernel.invokeFunction('convertToInteractive',\n",
              "                                                    [key], {});\n",
              "        if (!dataTable) return;\n",
              "\n",
              "        const docLinkHtml = 'Like what you see? Visit the ' +\n",
              "          '<a target=\"_blank\" href=https://colab.research.google.com/notebooks/data_table.ipynb>data table notebook</a>'\n",
              "          + ' to learn more about interactive tables.';\n",
              "        element.innerHTML = '';\n",
              "        dataTable['output_type'] = 'display_data';\n",
              "        await google.colab.output.renderOutput(dataTable, element);\n",
              "        const docLink = document.createElement('div');\n",
              "        docLink.innerHTML = docLinkHtml;\n",
              "        element.appendChild(docLink);\n",
              "      }\n",
              "    </script>\n",
              "  </div>\n",
              "\n",
              "\n",
              "    <div id=\"df-0f13a158-e3fa-4a61-9a0a-6c4f90482662\">\n",
              "      <button class=\"colab-df-quickchart\" onclick=\"quickchart('df-0f13a158-e3fa-4a61-9a0a-6c4f90482662')\"\n",
              "                title=\"Suggest charts\"\n",
              "                style=\"display:none;\">\n",
              "\n",
              "<svg xmlns=\"http://www.w3.org/2000/svg\" height=\"24px\"viewBox=\"0 0 24 24\"\n",
              "     width=\"24px\">\n",
              "    <g>\n",
              "        <path d=\"M19 3H5c-1.1 0-2 .9-2 2v14c0 1.1.9 2 2 2h14c1.1 0 2-.9 2-2V5c0-1.1-.9-2-2-2zM9 17H7v-7h2v7zm4 0h-2V7h2v10zm4 0h-2v-4h2v4z\"/>\n",
              "    </g>\n",
              "</svg>\n",
              "      </button>\n",
              "\n",
              "<style>\n",
              "  .colab-df-quickchart {\n",
              "      --bg-color: #E8F0FE;\n",
              "      --fill-color: #1967D2;\n",
              "      --hover-bg-color: #E2EBFA;\n",
              "      --hover-fill-color: #174EA6;\n",
              "      --disabled-fill-color: #AAA;\n",
              "      --disabled-bg-color: #DDD;\n",
              "  }\n",
              "\n",
              "  [theme=dark] .colab-df-quickchart {\n",
              "      --bg-color: #3B4455;\n",
              "      --fill-color: #D2E3FC;\n",
              "      --hover-bg-color: #434B5C;\n",
              "      --hover-fill-color: #FFFFFF;\n",
              "      --disabled-bg-color: #3B4455;\n",
              "      --disabled-fill-color: #666;\n",
              "  }\n",
              "\n",
              "  .colab-df-quickchart {\n",
              "    background-color: var(--bg-color);\n",
              "    border: none;\n",
              "    border-radius: 50%;\n",
              "    cursor: pointer;\n",
              "    display: none;\n",
              "    fill: var(--fill-color);\n",
              "    height: 32px;\n",
              "    padding: 0;\n",
              "    width: 32px;\n",
              "  }\n",
              "\n",
              "  .colab-df-quickchart:hover {\n",
              "    background-color: var(--hover-bg-color);\n",
              "    box-shadow: 0 1px 2px rgba(60, 64, 67, 0.3), 0 1px 3px 1px rgba(60, 64, 67, 0.15);\n",
              "    fill: var(--button-hover-fill-color);\n",
              "  }\n",
              "\n",
              "  .colab-df-quickchart-complete:disabled,\n",
              "  .colab-df-quickchart-complete:disabled:hover {\n",
              "    background-color: var(--disabled-bg-color);\n",
              "    fill: var(--disabled-fill-color);\n",
              "    box-shadow: none;\n",
              "  }\n",
              "\n",
              "  .colab-df-spinner {\n",
              "    border: 2px solid var(--fill-color);\n",
              "    border-color: transparent;\n",
              "    border-bottom-color: var(--fill-color);\n",
              "    animation:\n",
              "      spin 1s steps(1) infinite;\n",
              "  }\n",
              "\n",
              "  @keyframes spin {\n",
              "    0% {\n",
              "      border-color: transparent;\n",
              "      border-bottom-color: var(--fill-color);\n",
              "      border-left-color: var(--fill-color);\n",
              "    }\n",
              "    20% {\n",
              "      border-color: transparent;\n",
              "      border-left-color: var(--fill-color);\n",
              "      border-top-color: var(--fill-color);\n",
              "    }\n",
              "    30% {\n",
              "      border-color: transparent;\n",
              "      border-left-color: var(--fill-color);\n",
              "      border-top-color: var(--fill-color);\n",
              "      border-right-color: var(--fill-color);\n",
              "    }\n",
              "    40% {\n",
              "      border-color: transparent;\n",
              "      border-right-color: var(--fill-color);\n",
              "      border-top-color: var(--fill-color);\n",
              "    }\n",
              "    60% {\n",
              "      border-color: transparent;\n",
              "      border-right-color: var(--fill-color);\n",
              "    }\n",
              "    80% {\n",
              "      border-color: transparent;\n",
              "      border-right-color: var(--fill-color);\n",
              "      border-bottom-color: var(--fill-color);\n",
              "    }\n",
              "    90% {\n",
              "      border-color: transparent;\n",
              "      border-bottom-color: var(--fill-color);\n",
              "    }\n",
              "  }\n",
              "</style>\n",
              "\n",
              "      <script>\n",
              "        async function quickchart(key) {\n",
              "          const quickchartButtonEl =\n",
              "            document.querySelector('#' + key + ' button');\n",
              "          quickchartButtonEl.disabled = true;  // To prevent multiple clicks.\n",
              "          quickchartButtonEl.classList.add('colab-df-spinner');\n",
              "          try {\n",
              "            const charts = await google.colab.kernel.invokeFunction(\n",
              "                'suggestCharts', [key], {});\n",
              "          } catch (error) {\n",
              "            console.error('Error during call to suggestCharts:', error);\n",
              "          }\n",
              "          quickchartButtonEl.classList.remove('colab-df-spinner');\n",
              "          quickchartButtonEl.classList.add('colab-df-quickchart-complete');\n",
              "        }\n",
              "        (() => {\n",
              "          let quickchartButtonEl =\n",
              "            document.querySelector('#df-0f13a158-e3fa-4a61-9a0a-6c4f90482662 button');\n",
              "          quickchartButtonEl.style.display =\n",
              "            google.colab.kernel.accessAllowed ? 'block' : 'none';\n",
              "        })();\n",
              "      </script>\n",
              "    </div>\n",
              "\n",
              "    </div>\n",
              "  </div>\n"
            ],
            "application/vnd.google.colaboratory.intrinsic+json": {
              "type": "dataframe",
              "variable_name": "data",
              "summary": "{\n  \"name\": \"data\",\n  \"rows\": 11162,\n  \"fields\": [\n    {\n      \"column\": \"age,job,marital,education,default,balance,housing,loan,contact,day,month,duration,campaign,pdays,previous,poutcome,deposit\",\n      \"properties\": {\n        \"dtype\": \"string\",\n        \"num_unique_values\": 11162,\n        \"samples\": [\n          \"65,retired,divorced,secondary,no,744,no,no,cellular,5,jul,182,1,-1,0,unknown,no\",\n          \"38,blue-collar,married,secondary,no,1627,no,no,unknown,16,jun,1323,9,-1,0,unknown,yes\",\n          \"35,blue-collar,single,secondary,no,4963,yes,no,cellular,14,may,456,1,300,1,failure,yes\"\n        ],\n        \"semantic_type\": \"\",\n        \"description\": \"\"\n      }\n    }\n  ]\n}"
            }
          },
          "metadata": {},
          "execution_count": 2
        }
      ]
    },
    {
      "cell_type": "code",
      "source": [
        "print(data.columns)\n"
      ],
      "metadata": {
        "colab": {
          "base_uri": "https://localhost:8080/"
        },
        "id": "KWudGDzjSKig",
        "outputId": "b0a7bc91-3f71-4ff4-cadc-1b4f9c6a4875"
      },
      "execution_count": 3,
      "outputs": [
        {
          "output_type": "stream",
          "name": "stdout",
          "text": [
            "Index(['age,job,marital,education,default,balance,housing,loan,contact,day,month,duration,campaign,pdays,previous,poutcome,deposit'], dtype='object')\n"
          ]
        }
      ]
    },
    {
      "cell_type": "code",
      "source": [
        "# --- قراءة البيانات بشكل صحيح ---\n",
        "import pandas as pd\n",
        "\n",
        "path = '/content/drive/MyDrive/bank marketing/bank.csv'\n",
        "\n",
        "# هنا غيرنا الفاصل من ';' إلى ',' لأنه الملف الجديد مفصول بفواصل مو فاصلة منقوطة\n",
        "data = pd.read_csv(path)\n",
        "\n",
        "# --- فصل المتغيرات ---\n",
        "X = data.drop('deposit', axis=1)\n",
        "y = data['deposit']\n",
        "\n",
        "# --- ترميز y ---\n",
        "from sklearn.preprocessing import LabelEncoder\n",
        "le = LabelEncoder()\n",
        "y = le.fit_transform(y)\n",
        "\n",
        "# --- التأكد ---\n",
        "print(X.head())\n",
        "print(y[:5])\n"
      ],
      "metadata": {
        "colab": {
          "base_uri": "https://localhost:8080/"
        },
        "id": "gPqWsi3KTYIr",
        "outputId": "09c0c8e5-66da-42bb-8a3d-db9b8e81010f"
      },
      "execution_count": 4,
      "outputs": [
        {
          "output_type": "stream",
          "name": "stdout",
          "text": [
            "   age         job  marital  education default  balance housing loan  contact  \\\n",
            "0   59      admin.  married  secondary      no     2343     yes   no  unknown   \n",
            "1   56      admin.  married  secondary      no       45      no   no  unknown   \n",
            "2   41  technician  married  secondary      no     1270     yes   no  unknown   \n",
            "3   55    services  married  secondary      no     2476     yes   no  unknown   \n",
            "4   54      admin.  married   tertiary      no      184      no   no  unknown   \n",
            "\n",
            "   day month  duration  campaign  pdays  previous poutcome  \n",
            "0    5   may      1042         1     -1         0  unknown  \n",
            "1    5   may      1467         1     -1         0  unknown  \n",
            "2    5   may      1389         1     -1         0  unknown  \n",
            "3    5   may       579         1     -1         0  unknown  \n",
            "4    5   may       673         2     -1         0  unknown  \n",
            "[1 1 1 1 1]\n"
          ]
        }
      ]
    },
    {
      "cell_type": "code",
      "source": [
        "from sklearn.model_selection import train_test_split\n",
        "\n",
        "X_train, X_test, y_train, y_test = train_test_split(X, y, test_size=0.2, random_state=42)\n",
        "\n",
        "print(\"✅ تم التقسيم بنجاح\")\n",
        "print(X_train.shape, X_test.shape)\n",
        "print(y_train.shape, y_test.shape)\n"
      ],
      "metadata": {
        "colab": {
          "base_uri": "https://localhost:8080/"
        },
        "id": "C2Rhf33rVG3o",
        "outputId": "d72c35f0-b4ca-4591-854e-ad63bab94aa5"
      },
      "execution_count": 5,
      "outputs": [
        {
          "output_type": "stream",
          "name": "stdout",
          "text": [
            "✅ تم التقسيم بنجاح\n",
            "(8929, 16) (2233, 16)\n",
            "(8929,) (2233,)\n"
          ]
        }
      ]
    },
    {
      "cell_type": "code",
      "source": [
        "# نحول كل الأعمدة النصية إلى أرقام\n",
        "for column in X.columns:\n",
        "    if X[column].dtype == 'object':\n",
        "        le = LabelEncoder()\n",
        "        X[column] = le.fit_transform(X[column])\n"
      ],
      "metadata": {
        "id": "qOimkFSIWGfT"
      },
      "execution_count": 6,
      "outputs": []
    },
    {
      "cell_type": "code",
      "source": [
        "from sklearn.model_selection import train_test_split\n",
        "\n",
        "X_train, X_test, y_train, y_test = train_test_split(X, y, test_size=0.2, random_state=42)\n"
      ],
      "metadata": {
        "id": "QGqYzUn9Winx"
      },
      "execution_count": 7,
      "outputs": []
    },
    {
      "cell_type": "code",
      "source": [
        "from sklearn.linear_model import LogisticRegression\n",
        "from sklearn.metrics import accuracy_score, classification_report\n",
        "\n",
        "# تدريب النموذج\n",
        "model = LogisticRegression(max_iter=1000)\n",
        "model.fit(X_train, y_train)\n",
        "\n",
        "# توقع على بيانات الاختبار\n",
        "y_pred = model.predict(X_test)\n",
        "\n",
        "# تقييم الأداء\n",
        "print(\"✅ دقة النموذج:\", accuracy_score(y_test, y_pred))\n",
        "print(\"📊 تقرير التصنيف:\\n\", classification_report(y_test, y_pred))\n"
      ],
      "metadata": {
        "colab": {
          "base_uri": "https://localhost:8080/"
        },
        "id": "bZhFeapmW2MZ",
        "outputId": "ecc97edb-bd5c-4ba5-91e4-f31fea0116ab"
      },
      "execution_count": 8,
      "outputs": [
        {
          "output_type": "stream",
          "name": "stdout",
          "text": [
            "✅ دقة النموذج: 0.7823555754590238\n",
            "📊 تقرير التصنيف:\n",
            "               precision    recall  f1-score   support\n",
            "\n",
            "           0       0.78      0.80      0.79      1166\n",
            "           1       0.78      0.76      0.77      1067\n",
            "\n",
            "    accuracy                           0.78      2233\n",
            "   macro avg       0.78      0.78      0.78      2233\n",
            "weighted avg       0.78      0.78      0.78      2233\n",
            "\n"
          ]
        },
        {
          "output_type": "stream",
          "name": "stderr",
          "text": [
            "/usr/local/lib/python3.11/dist-packages/sklearn/linear_model/_logistic.py:465: ConvergenceWarning: lbfgs failed to converge (status=1):\n",
            "STOP: TOTAL NO. OF ITERATIONS REACHED LIMIT.\n",
            "\n",
            "Increase the number of iterations (max_iter) or scale the data as shown in:\n",
            "    https://scikit-learn.org/stable/modules/preprocessing.html\n",
            "Please also refer to the documentation for alternative solver options:\n",
            "    https://scikit-learn.org/stable/modules/linear_model.html#logistic-regression\n",
            "  n_iter_i = _check_optimize_result(\n"
          ]
        }
      ]
    },
    {
      "cell_type": "code",
      "source": [
        "from sklearn.metrics import confusion_matrix, ConfusionMatrixDisplay\n",
        "\n",
        "# حساب مصفوفة الالتباس\n",
        "cm = confusion_matrix(y_test, y_pred)\n",
        "\n",
        "# عرض مصفوفة الالتباس\n",
        "disp = ConfusionMatrixDisplay(confusion_matrix=cm)\n",
        "disp.plot()\n"
      ],
      "metadata": {
        "colab": {
          "base_uri": "https://localhost:8080/",
          "height": 466
        },
        "id": "foyKQ2-zXvbx",
        "outputId": "1f9aa7f3-2697-4136-df79-2f58a4f664b0"
      },
      "execution_count": 9,
      "outputs": [
        {
          "output_type": "execute_result",
          "data": {
            "text/plain": [
              "<sklearn.metrics._plot.confusion_matrix.ConfusionMatrixDisplay at 0x781ec1e53890>"
            ]
          },
          "metadata": {},
          "execution_count": 9
        },
        {
          "output_type": "display_data",
          "data": {
            "text/plain": [
              "<Figure size 640x480 with 2 Axes>"
            ],
            "image/png": "[encoded data removed]"
          },
          "metadata": {}
        }
      ]
    },
    {
      "cell_type": "code",
      "source": [
        "from sklearn.neighbors import KNeighborsClassifier\n",
        "\n",
        "# إنشاء النموذج\n",
        "model_knn = KNeighborsClassifier(n_neighbors=5)\n",
        "\n",
        "# تدريب النموذج\n",
        "model_knn.fit(X_train, y_train)\n",
        "\n",
        "# عمل التنبؤ\n",
        "y_pred_knn = model_knn.predict(X_test)\n",
        "\n",
        "# عرض الدقة وتقرير التصنيف\n",
        "from sklearn.metrics import accuracy_score, classification_report\n",
        "print(\"KNN Accuracy:\", accuracy_score(y_test, y_pred_knn))\n",
        "print(\"KNN Classification Report:\\n\", classification_report(y_test, y_pred_knn))\n"
      ],
      "metadata": {
        "colab": {
          "base_uri": "https://localhost:8080/"
        },
        "id": "BU1K3OwTA7Fj",
        "outputId": "5daf5885-8815-4fe0-81dd-741e73c78375"
      },
      "execution_count": 10,
      "outputs": [
        {
          "output_type": "stream",
          "name": "stdout",
          "text": [
            "KNN Accuracy: 0.748320644872369\n",
            "KNN Classification Report:\n",
            "               precision    recall  f1-score   support\n",
            "\n",
            "           0       0.75      0.77      0.76      1166\n",
            "           1       0.74      0.72      0.73      1067\n",
            "\n",
            "    accuracy                           0.75      2233\n",
            "   macro avg       0.75      0.75      0.75      2233\n",
            "weighted avg       0.75      0.75      0.75      2233\n",
            "\n"
          ]
        }
      ]
    },
    {
      "cell_type": "code",
      "source": [
        "import pandas as pd\n",
        "\n",
        "# حفظ التوقعات\n",
        "pd.DataFrame(y_pred_knn).to_csv(\"predictions_KNN_model.csv\", index=False)\n"
      ],
      "metadata": {
        "id": "DPgzszxwCo5A"
      },
      "execution_count": 11,
      "outputs": []
    },
    {
      "cell_type": "code",
      "source": [
        "from sklearn.svm import SVC\n",
        "\n",
        "# إنشاء وتدريب النموذج\n",
        "model_svm = SVC()\n",
        "model_svm.fit(X_train, y_train)\n",
        "\n",
        "# عمل التنبؤ\n",
        "y_pred_svm = model_svm.predict(X_test)\n",
        "\n",
        "# عرض النتائج\n",
        "from sklearn.metrics import accuracy_score, classification_report\n",
        "print(\"SVM Accuracy:\", accuracy_score(y_test, y_pred_svm))\n",
        "print(\"SVM Classification Report:\\n\", classification_report(y_test, y_pred_svm))\n"
      ],
      "metadata": {
        "colab": {
          "base_uri": "https://localhost:8080/"
        },
        "id": "Oy0J968cC8xC",
        "outputId": "25eb6130-9d78-4573-b496-af2746bde5ad"
      },
      "execution_count": 12,
      "outputs": [
        {
          "output_type": "stream",
          "name": "stdout",
          "text": [
            "SVM Accuracy: 0.7259292431706225\n",
            "SVM Classification Report:\n",
            "               precision    recall  f1-score   support\n",
            "\n",
            "           0       0.71      0.81      0.75      1166\n",
            "           1       0.75      0.64      0.69      1067\n",
            "\n",
            "    accuracy                           0.73      2233\n",
            "   macro avg       0.73      0.72      0.72      2233\n",
            "weighted avg       0.73      0.73      0.72      2233\n",
            "\n"
          ]
        }
      ]
    },
    {
      "cell_type": "code",
      "source": [
        "pd.DataFrame(y_pred_svm).to_csv(\"predictions_SVM_model.csv\", index=False)"
      ],
      "metadata": {
        "id": "LlY8hLA1DbKy"
      },
      "execution_count": 13,
      "outputs": []
    },
    {
      "cell_type": "code",
      "source": [
        "from sklearn.naive_bayes import GaussianNB\n",
        "\n",
        "# إنشاء وتدريب النموذج\n",
        "model_nb = GaussianNB()\n",
        "model_nb.fit(X_train, y_train)\n",
        "\n",
        "# عمل التنبؤ\n",
        "y_pred_nb = model_nb.predict(X_test)\n",
        "\n",
        "# عرض النتائج\n",
        "from sklearn.metrics import accuracy_score, classification_report\n",
        "print(\"Naive Bayes Accuracy:\", accuracy_score(y_test, y_pred_nb))\n",
        "print(\"Naive Bayes Classification Report:\\n\", classification_report(y_test, y_pred_nb))"
      ],
      "metadata": {
        "colab": {
          "base_uri": "https://localhost:8080/"
        },
        "id": "I_f2v-1vFDWN",
        "outputId": "498a5fd1-584c-4759-b267-5b33d4f5fa6e"
      },
      "execution_count": 14,
      "outputs": [
        {
          "output_type": "stream",
          "name": "stdout",
          "text": [
            "Naive Bayes Accuracy: 0.7501119570085087\n",
            "Naive Bayes Classification Report:\n",
            "               precision    recall  f1-score   support\n",
            "\n",
            "           0       0.79      0.71      0.75      1166\n",
            "           1       0.72      0.79      0.75      1067\n",
            "\n",
            "    accuracy                           0.75      2233\n",
            "   macro avg       0.75      0.75      0.75      2233\n",
            "weighted avg       0.75      0.75      0.75      2233\n",
            "\n"
          ]
        }
      ]
    },
    {
      "cell_type": "code",
      "source": [
        "pd.DataFrame(y_pred_nb).to_csv(\"predictions_NaiveBayes_model.csv\", index=False)"
      ],
      "metadata": {
        "id": "-bEy5oMpF4BP"
      },
      "execution_count": 15,
      "outputs": []
    },
    {
      "cell_type": "code",
      "source": [
        "from sklearn.ensemble import RandomForestClassifier\n",
        "\n",
        "# إنشاء وتدريب النموذج\n",
        "model_rf = RandomForestClassifier()\n",
        "model_rf.fit(X_train, y_train)\n",
        "\n",
        "# عمل التنبؤ\n",
        "y_pred_rf = model_rf.predict(X_test)\n",
        "\n",
        "# عرض النتائج\n",
        "from sklearn.metrics import accuracy_score, classification_report\n",
        "print(\"Random Forest Accuracy:\", accuracy_score(y_test, y_pred_rf))\n",
        "print(\"Random Forest Classification Report:\\n\", classification_report(y_test, y_pred_rf))"
      ],
      "metadata": {
        "colab": {
          "base_uri": "https://localhost:8080/"
        },
        "id": "SQ2RXmWNGXC9",
        "outputId": "2b5b023d-ac97-4901-9327-67adc71eee39"
      },
      "execution_count": 16,
      "outputs": [
        {
          "output_type": "stream",
          "name": "stdout",
          "text": [
            "Random Forest Accuracy: 0.8280340349305867\n",
            "Random Forest Classification Report:\n",
            "               precision    recall  f1-score   support\n",
            "\n",
            "           0       0.86      0.81      0.83      1166\n",
            "           1       0.80      0.85      0.83      1067\n",
            "\n",
            "    accuracy                           0.83      2233\n",
            "   macro avg       0.83      0.83      0.83      2233\n",
            "weighted avg       0.83      0.83      0.83      2233\n",
            "\n"
          ]
        }
      ]
    },
    {
      "cell_type": "code",
      "source": [
        "from sklearn.metrics import confusion_matrix, ConfusionMatrixDisplay\n",
        "\n",
        "# حساب مصفوفة الالتباس\n",
        "cm_rf = confusion_matrix(y_test, y_pred_rf)\n",
        "\n",
        "# عرض مصفوفة الالتباس\n",
        "disp_rf = ConfusionMatrixDisplay(confusion_matrix=cm_rf)\n",
        "disp_rf.plot()\n"
      ],
      "metadata": {
        "colab": {
          "base_uri": "https://localhost:8080/",
          "height": 466
        },
        "id": "Jx3PQiE6Q8VE",
        "outputId": "0bf29c96-d35a-4ae3-a880-a5f1f321d5f7"
      },
      "execution_count": 26,
      "outputs": [
        {
          "output_type": "execute_result",
          "data": {
            "text/plain": [
              "<sklearn.metrics._plot.confusion_matrix.ConfusionMatrixDisplay at 0x781ebbebf350>"
            ]
          },
          "metadata": {},
          "execution_count": 26
        },
        {
          "output_type": "display_data",
          "data": {
            "text/plain": [
              "<Figure size 640x480 with 2 Axes>"
            ],
            "image/png": "[encoded data removed]"
          },
          "metadata": {}
        }
      ]
    },
    {
      "cell_type": "code",
      "source": [
        "pd.DataFrame(y_pred_rf).to_csv(\"predictions_RF_model.csv\", index=False)"
      ],
      "metadata": {
        "id": "Iw-b5HKyGxVb"
      },
      "execution_count": 28,
      "outputs": []
    },
    {
      "cell_type": "code",
      "source": [
        "from sklearn.neural_network import MLPClassifier\n",
        "\n",
        "# إنشاء وتدريب النموذج\n",
        "model_ann = MLPClassifier(hidden_layer_sizes=(100,), max_iter=300, random_state=42)\n",
        "model_ann.fit(X_train, y_train)\n",
        "\n",
        "# عمل التنبؤ\n",
        "y_pred_ann = model_ann.predict(X_test)\n",
        "\n",
        "# عرض النتائج\n",
        "from sklearn.metrics import accuracy_score, classification_report\n",
        "print(\"ANN Accuracy:\", accuracy_score(y_test, y_pred_ann))\n",
        "print(\"ANN Classification Report:\\n\", classification_report(y_test, y_pred_ann))"
      ],
      "metadata": {
        "colab": {
          "base_uri": "https://localhost:8080/"
        },
        "id": "_h9ntew8HITj",
        "outputId": "2277c5a6-a955-49e6-ae55-4dafde8377ab"
      },
      "execution_count": 18,
      "outputs": [
        {
          "output_type": "stream",
          "name": "stdout",
          "text": [
            "ANN Accuracy: 0.696820420958352\n",
            "ANN Classification Report:\n",
            "               precision    recall  f1-score   support\n",
            "\n",
            "           0       0.82      0.54      0.65      1166\n",
            "           1       0.63      0.87      0.73      1067\n",
            "\n",
            "    accuracy                           0.70      2233\n",
            "   macro avg       0.73      0.70      0.69      2233\n",
            "weighted avg       0.73      0.70      0.69      2233\n",
            "\n"
          ]
        }
      ]
    },
    {
      "cell_type": "code",
      "source": [
        "pd.DataFrame(y_pred_ann).to_csv(\"predictions_ANN_model.csv\", index=False)"
      ],
      "metadata": {
        "id": "xuGigUCyHjoI"
      },
      "execution_count": 19,
      "outputs": []
    },
    {
      "cell_type": "code",
      "source": [
        "from sklearn.linear_model import LinearRegression\n",
        "\n",
        "# إنشاء وتدريب النموذج\n",
        "model_lr = LinearRegression()\n",
        "model_lr.fit(X_train, y_train)\n",
        "\n",
        "# التنبؤ بالقيم (رح تطلع كسور)\n",
        "y_pred_lr = model_lr.predict(X_test)\n",
        "\n",
        "# نحولها إلى تصنيف: أي قيمة أكبر من أو تساوي 0.5 تصير 1، غير كذا تصير 0\n",
        "y_pred_lr_class = [1 if i >= 0.5 else 0 for i in y_pred_lr]\n",
        "\n",
        "# عرض النتائج\n",
        "from sklearn.metrics import accuracy_score, classification_report\n",
        "print(\"Linear Regression Accuracy:\", accuracy_score(y_test, y_pred_lr_class))\n",
        "print(\"Linear Regression Classification Report:\\n\", classification_report(y_test, y_pred_lr_class))"
      ],
      "metadata": {
        "colab": {
          "base_uri": "https://localhost:8080/"
        },
        "id": "NGvNiRAAIIrt",
        "outputId": "aac01808-2996-428f-9c71-3d11505c8d85"
      },
      "execution_count": 20,
      "outputs": [
        {
          "output_type": "stream",
          "name": "stdout",
          "text": [
            "Linear Regression Accuracy: 0.7814599193909538\n",
            "Linear Regression Classification Report:\n",
            "               precision    recall  f1-score   support\n",
            "\n",
            "           0       0.77      0.83      0.80      1166\n",
            "           1       0.80      0.73      0.76      1067\n",
            "\n",
            "    accuracy                           0.78      2233\n",
            "   macro avg       0.78      0.78      0.78      2233\n",
            "weighted avg       0.78      0.78      0.78      2233\n",
            "\n"
          ]
        }
      ]
    },
    {
      "cell_type": "code",
      "source": [
        "pd.DataFrame(y_pred_lr_class).to_csv(\"predictions_LinearRegression_model.csv\", index=False)"
      ],
      "metadata": {
        "id": "9yLxFfbcImEy"
      },
      "execution_count": 21,
      "outputs": []
    },
    {
      "cell_type": "code",
      "source": [
        "pd.DataFrame(X_train).to_csv(\"X.csv\", index=False)\n",
        "pd.DataFrame(X_test).to_csv(\"X_test.csv\", index=False)\n",
        "pd.DataFrame(y_train).to_csv(\"Y.csv\", index=False)\n",
        "pd.DataFrame(y_test).to_csv(\"Y_test.csv\", index=False)\n"
      ],
      "metadata": {
        "id": "8DihFLThJN76"
      },
      "execution_count": 22,
      "outputs": []
    },
    {
      "cell_type": "code",
      "source": [
        "from sklearn.metrics import accuracy_score, classification_report\n",
        "\n",
        "print(\"Decision Tree Accuracy:\", accuracy_score(y_test, y_pred))\n",
        "print(\"Decision Tree Classification Report:\\n\", classification_report(y_test, y_pred))"
      ],
      "metadata": {
        "colab": {
          "base_uri": "https://localhost:8080/"
        },
        "id": "5-S_2f2EO04A",
        "outputId": "476852aa-41d0-4a8d-d766-c9ad0dca61e7"
      },
      "execution_count": 23,
      "outputs": [
        {
          "output_type": "stream",
          "name": "stdout",
          "text": [
            "Decision Tree Accuracy: 0.7823555754590238\n",
            "Decision Tree Classification Report:\n",
            "               precision    recall  f1-score   support\n",
            "\n",
            "           0       0.78      0.80      0.79      1166\n",
            "           1       0.78      0.76      0.77      1067\n",
            "\n",
            "    accuracy                           0.78      2233\n",
            "   macro avg       0.78      0.78      0.78      2233\n",
            "weighted avg       0.78      0.78      0.78      2233\n",
            "\n"
          ]
        }
      ]
    },
    {
      "cell_type": "code",
      "source": [
        "pd.DataFrame(y_pred).to_csv(\"predictions_DecisionTree_model.csv\", index=False)"
      ],
      "metadata": {
        "id": "lAx5YyV2PJl_"
      },
      "execution_count": 24,
      "outputs": []
    },
    {
      "cell_type": "code",
      "source": [
        "import seaborn as sns\n",
        "import matplotlib.pyplot as plt\n",
        "\n",
        "# أسماء النماذج والدقة\n",
        "model_names = ['Decision Tree', 'KNN', 'SVM', 'Naive Bayes', 'Random Forest', 'ANN', 'Linear Regression']\n",
        "accuracies = [0.78, 0.75, 0.72, 0.75, 0.83, 0.69, 0.78]\n",
        "\n",
        "# إنشاء داتا فريم\n",
        "import pandas as pd\n",
        "df_results = pd.DataFrame({'Model': model_names, 'Accuracy': accuracies})\n",
        "\n",
        "# رسم بياني باستخدام Seaborn\n",
        "plt.figure(figsize=(10,6))\n",
        "sns.barplot(x='Model', y='Accuracy', data=df_results, palette='Blues_d')\n",
        "plt.title('Model Accuracy Comparison', fontsize=16)\n",
        "plt.ylim(0.6, 0.9)\n",
        "plt.xticks(rotation=45)\n",
        "plt.show()"
      ],
      "metadata": {
        "colab": {
          "base_uri": "https://localhost:8080/",
          "height": 756
        },
        "id": "-lA8xI3EODdV",
        "outputId": "488ae4e7-58bd-4b15-8e5a-b9108df49e99"
      },
      "execution_count": 25,
      "outputs": [
        {
          "output_type": "stream",
          "name": "stderr",
          "text": [
            "<ipython-input-25-c3f0153d0acf>:14: FutureWarning: \n",
            "\n",
            "Passing `palette` without assigning `hue` is deprecated and will be removed in v0.14.0. Assign the `x` variable to `hue` and set `legend=False` for the same effect.\n",
            "\n",
            "  sns.barplot(x='Model', y='Accuracy', data=df_results, palette='Blues_d')\n"
          ]
        },
        {
          "output_type": "display_data",
          "data": {
            "text/plain": [
              "<Figure size 1000x600 with 1 Axes>"
            ],
            "image/png": "[encoded data removed]"
          },
          "metadata": {}
        }
      ]
    }
  ]
}